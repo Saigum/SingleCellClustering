{
 "cells": [
  {
   "cell_type": "code",
   "execution_count": 2,
   "metadata": {},
   "outputs": [],
   "source": [
    "path = \"pbmc/pbmc6k_matrices\"\n",
    "import scanpy as sc\n",
    "adata = sc.read_10x_mtx(path, var_names='gene_symbols', cache=False)"
   ]
  },
  {
   "cell_type": "code",
   "execution_count": 9,
   "metadata": {},
   "outputs": [
    {
     "data": {
      "text/html": [
       "<div>\n",
       "<style scoped>\n",
       "    .dataframe tbody tr th:only-of-type {\n",
       "        vertical-align: middle;\n",
       "    }\n",
       "\n",
       "    .dataframe tbody tr th {\n",
       "        vertical-align: top;\n",
       "    }\n",
       "\n",
       "    .dataframe thead th {\n",
       "        text-align: right;\n",
       "    }\n",
       "</style>\n",
       "<table border=\"1\" class=\"dataframe\">\n",
       "  <thead>\n",
       "    <tr style=\"text-align: right;\">\n",
       "      <th></th>\n",
       "      <th>gene_ids</th>\n",
       "    </tr>\n",
       "  </thead>\n",
       "  <tbody>\n",
       "    <tr>\n",
       "      <th>MIR1302-10</th>\n",
       "      <td>ENSG00000243485</td>\n",
       "    </tr>\n",
       "    <tr>\n",
       "      <th>FAM138A</th>\n",
       "      <td>ENSG00000237613</td>\n",
       "    </tr>\n",
       "    <tr>\n",
       "      <th>OR4F5</th>\n",
       "      <td>ENSG00000186092</td>\n",
       "    </tr>\n",
       "    <tr>\n",
       "      <th>RP11-34P13.7</th>\n",
       "      <td>ENSG00000238009</td>\n",
       "    </tr>\n",
       "    <tr>\n",
       "      <th>RP11-34P13.8</th>\n",
       "      <td>ENSG00000239945</td>\n",
       "    </tr>\n",
       "    <tr>\n",
       "      <th>...</th>\n",
       "      <td>...</td>\n",
       "    </tr>\n",
       "    <tr>\n",
       "      <th>AC145205.1</th>\n",
       "      <td>ENSG00000215635</td>\n",
       "    </tr>\n",
       "    <tr>\n",
       "      <th>BAGE5</th>\n",
       "      <td>ENSG00000268590</td>\n",
       "    </tr>\n",
       "    <tr>\n",
       "      <th>CU459201.1</th>\n",
       "      <td>ENSG00000251180</td>\n",
       "    </tr>\n",
       "    <tr>\n",
       "      <th>AC002321.2</th>\n",
       "      <td>ENSG00000215616</td>\n",
       "    </tr>\n",
       "    <tr>\n",
       "      <th>AC002321.1</th>\n",
       "      <td>ENSG00000215611</td>\n",
       "    </tr>\n",
       "  </tbody>\n",
       "</table>\n",
       "<p>32738 rows × 1 columns</p>\n",
       "</div>"
      ],
      "text/plain": [
       "                     gene_ids\n",
       "MIR1302-10    ENSG00000243485\n",
       "FAM138A       ENSG00000237613\n",
       "OR4F5         ENSG00000186092\n",
       "RP11-34P13.7  ENSG00000238009\n",
       "RP11-34P13.8  ENSG00000239945\n",
       "...                       ...\n",
       "AC145205.1    ENSG00000215635\n",
       "BAGE5         ENSG00000268590\n",
       "CU459201.1    ENSG00000251180\n",
       "AC002321.2    ENSG00000215616\n",
       "AC002321.1    ENSG00000215611\n",
       "\n",
       "[32738 rows x 1 columns]"
      ]
     },
     "execution_count": 9,
     "metadata": {},
     "output_type": "execute_result"
    }
   ],
   "source": [
    "adata.var"
   ]
  },
  {
   "cell_type": "code",
   "execution_count": null,
   "metadata": {},
   "outputs": [
    {
     "name": "stderr",
     "output_type": "stream",
     "text": [
      "<>:2: SyntaxWarning: invalid escape sequence '\\G'\n",
      "<>:4: SyntaxWarning: invalid escape sequence '\\G'\n",
      "<>:2: SyntaxWarning: invalid escape sequence '\\G'\n",
      "<>:4: SyntaxWarning: invalid escape sequence '\\G'\n",
      "C:\\Users\\saira\\AppData\\Local\\Temp\\ipykernel_36804\\3700618292.py:2: SyntaxWarning: invalid escape sequence '\\G'\n",
      "  adata = pd.read_csv(\"Guo\\GSE99254.count.txt\",delimiter=\"\\t\")\n",
      "C:\\Users\\saira\\AppData\\Local\\Temp\\ipykernel_36804\\3700618292.py:4: SyntaxWarning: invalid escape sequence '\\G'\n",
      "  adata.to_csv(\"Guo\\GSE99254.tsv\",sep=\"\\t\")\n"
     ]
    }
   ],
   "source": [
    "import pandas as pd\n",
    "adata = pd.read_csv(\"Guo\\GSE99254.count.txt\",delimiter=\"\\t\")\n",
    "adata = adata.drop(columns = [\"geneID\"])\n",
    "\n",
    "\n"
   ]
  },
  {
   "cell_type": "code",
   "execution_count": 36,
   "metadata": {},
   "outputs": [],
   "source": [
    "import pandas as pd\n",
    "melanoma = sc.read_csv(\"/scratch/saigum/codebase/datasets/Brown/hum_melanoma_counts.tsv\",delimiter=\"\\t\")"
   ]
  },
  {
   "cell_type": "code",
   "execution_count": 42,
   "metadata": {},
   "outputs": [
    {
     "data": {
      "text/plain": [
       "(9315, 19445)"
      ]
     },
     "execution_count": 42,
     "metadata": {},
     "output_type": "execute_result"
    }
   ],
   "source": [
    "melanoma.X.shape"
   ]
  },
  {
   "cell_type": "code",
   "execution_count": 9,
   "metadata": {},
   "outputs": [
    {
     "name": "stderr",
     "output_type": "stream",
     "text": [
      "<>:1: SyntaxWarning: invalid escape sequence '\\G'\n",
      "<>:1: SyntaxWarning: invalid escape sequence '\\G'\n",
      "C:\\Users\\saira\\AppData\\Local\\Temp\\ipykernel_36804\\3480280203.py:1: SyntaxWarning: invalid escape sequence '\\G'\n",
      "  adata.to_csv(\"Guo\\GSE99254.tsv\",sep=\"\\t\",index=False)\n"
     ]
    }
   ],
   "source": [
    "adata.to_csv(\"Guo\\GSE99254.tsv\",sep=\"\\t\",index=False)"
   ]
  },
  {
   "cell_type": "code",
   "execution_count": 10,
   "metadata": {},
   "outputs": [
    {
     "name": "stderr",
     "output_type": "stream",
     "text": [
      "/scratch/saigum/codebase/gac/lib/python3.13/site-packages/anndata/_core/anndata.py:1756: UserWarning: Observation names are not unique. To make them unique, call `.obs_names_make_unique`.\n",
      "  utils.warn_names_duplicates(\"obs\")\n"
     ]
    }
   ],
   "source": [
    "guo = sc.read_csv(\"Guo/GSE99254.tsv\",delimiter=\"\\t\")"
   ]
  },
  {
   "cell_type": "code",
   "execution_count": 28,
   "metadata": {},
   "outputs": [],
   "source": [
    "import pandas as pd\n",
    "guo_subtype= pd.read_csv(\"Guo/subtype.ann\",delimiter=\"\\t\")\n",
    "from sklearn.preprocessing import LabelEncoder\n",
    "lb = LabelEncoder()\n",
    "guo_subtype[\"label\"]=lb.fit_transform(guo_subtype[\"sampleType\"]) \n"
   ]
  },
  {
   "cell_type": "code",
   "execution_count": 5,
   "metadata": {},
   "outputs": [
    {
     "name": "stderr",
     "output_type": "stream",
     "text": [
      "<>:2: SyntaxWarning: invalid escape sequence '\\h'\n",
      "<>:2: SyntaxWarning: invalid escape sequence '\\h'\n",
      "C:\\Users\\saira\\AppData\\Local\\Temp\\ipykernel_16800\\3718971914.py:2: SyntaxWarning: invalid escape sequence '\\h'\n",
      "  brown_mouse = sc.read_csv(\"Brown\\hum_melanoma_counts.tsv\",delimiter=\"\\t\")\n"
     ]
    },
    {
     "name": "stdout",
     "output_type": "stream",
     "text": [
      "AnnData object with n_obs × n_vars = 9315 × 19445\n"
     ]
    }
   ],
   "source": [
    "import scanpy as sc\n",
    "brown_mouse = sc.read_csv(\"Brown\\hum_melanoma_counts.tsv\",delimiter=\"\\t\")\n",
    "\n",
    "print(brown_mouse)"
   ]
  },
  {
   "cell_type": "code",
   "execution_count": 11,
   "metadata": {},
   "outputs": [
    {
     "name": "stderr",
     "output_type": "stream",
     "text": [
      "<>:3: SyntaxWarning: invalid escape sequence '\\G'\n",
      "<>:5: SyntaxWarning: invalid escape sequence '\\G'\n",
      "<>:6: SyntaxWarning: invalid escape sequence '\\G'\n",
      "<>:3: SyntaxWarning: invalid escape sequence '\\G'\n",
      "<>:5: SyntaxWarning: invalid escape sequence '\\G'\n",
      "<>:6: SyntaxWarning: invalid escape sequence '\\G'\n",
      "C:\\Users\\saira\\AppData\\Local\\Temp\\ipykernel_16800\\3448444132.py:3: SyntaxWarning: invalid escape sequence '\\G'\n",
      "  chung = pd.read_csv(\"Chung\\GSE75688_matrix.txt\",delimiter=\"\\t\")\n",
      "C:\\Users\\saira\\AppData\\Local\\Temp\\ipykernel_16800\\3448444132.py:5: SyntaxWarning: invalid escape sequence '\\G'\n",
      "  chung.to_csv(\"Chung\\GSE75688.tsv\",sep=\"\\t\",index=False)\n",
      "C:\\Users\\saira\\AppData\\Local\\Temp\\ipykernel_16800\\3448444132.py:6: SyntaxWarning: invalid escape sequence '\\G'\n",
      "  chung = sc.read_csv(\"Chung\\GSE75688.tsv\",delimiter=\"\\t\")\n"
     ]
    },
    {
     "name": "stdout",
     "output_type": "stream",
     "text": [
      "AnnData object with n_obs × n_vars = 57915 × 563\n"
     ]
    }
   ],
   "source": [
    "import scanpy as sc\n",
    "import pandas as pd\n",
    "chung = pd.read_csv(\"Chung\\GSE75688_matrix.txt\",delimiter=\"\\t\")\n",
    "chung = chung.drop(columns = [\"gene_name\",\"gene_type\"])\n",
    "chung.to_csv(\"Chung\\GSE75688.tsv\",sep=\"\\t\",index=False)\n",
    "chung = sc.read_csv(\"Chung\\GSE75688.tsv\",delimiter=\"\\t\")\n",
    "print(chung)"
   ]
  },
  {
   "cell_type": "code",
   "execution_count": 2,
   "metadata": {},
   "outputs": [
    {
     "name": "stderr",
     "output_type": "stream",
     "text": [
      "<>:2: SyntaxWarning: invalid escape sequence '\\G'\n",
      "<>:2: SyntaxWarning: invalid escape sequence '\\G'\n",
      "C:\\Users\\saira\\AppData\\Local\\Temp\\ipykernel_43408\\3105308605.py:2: SyntaxWarning: invalid escape sequence '\\G'\n",
      "  habib = sc.read_csv(\"Habib\\GSE104525_Mouse_Processed_GTEx_Data.DGE.UMI-Counts.txt\",delimiter=\"\\t\")\n"
     ]
    },
    {
     "name": "stdout",
     "output_type": "stream",
     "text": [
      "AnnData object with n_obs × n_vars = 23589 × 13313\n"
     ]
    }
   ],
   "source": [
    "import scanpy as sc\n",
    "habib = sc.read_csv(\"Habib\\GSE104525_Mouse_Processed_GTEx_Data.DGE.UMI-Counts.txt\",delimiter=\"\\t\")\n",
    "print(habib)"
   ]
  },
  {
   "cell_type": "code",
   "execution_count": 5,
   "metadata": {},
   "outputs": [],
   "source": [
    "habib =habib.transpose()"
   ]
  },
  {
   "cell_type": "code",
   "execution_count": 35,
   "metadata": {},
   "outputs": [
    {
     "name": "stderr",
     "output_type": "stream",
     "text": [
      "<>:23: SyntaxWarning: invalid escape sequence '\\G'\n",
      "<>:23: SyntaxWarning: invalid escape sequence '\\G'\n",
      "C:\\Users\\saira\\AppData\\Local\\Temp\\ipykernel_43408\\2947217357.py:23: SyntaxWarning: invalid escape sequence '\\G'\n",
      "  adata.to_df().to_csv(\"Sun\\GSE116470.tsv\",sep=\"\\t\",index=False)\n"
     ]
    },
    {
     "name": "stdout",
     "output_type": "stream",
     "text": [
      "{'GSM3665017_KC_PBL', 'GSM3662224_K5_472', 'GSM3665019_TC_PBL', 'GSM3667329_SC125_S3', 'GSM3662226_K7_478', 'GSM3665016_CS_PBL', 'GSM3662227_K8_477', 'GSM3665018_TB_PBL', 'GSM3667327_SC68_S1', 'GSM3667328_SC124_S2', 'GSM3662225_K6_473'}\n",
      "AnnData object with n_obs × n_vars = 341158 × 0\n"
     ]
    },
    {
     "name": "stderr",
     "output_type": "stream",
     "text": [
      "c:\\Users\\saira\\anaconda3\\envs\\Pytorch\\Lib\\site-packages\\anndata\\_core\\anndata.py:1754: UserWarning: Observation names are not unique. To make them unique, call `.obs_names_make_unique`.\n",
      "  utils.warn_names_duplicates(\"obs\")\n"
     ]
    }
   ],
   "source": [
    "import os\n",
    "import pandas as pd\n",
    "fileset = []\n",
    "for dirpath,dirnames,filenames in os.walk(\"Sun\"):\n",
    "    for file in filenames:\n",
    "        fileset.append(file[:file.rfind(\"_\")])\n",
    "\n",
    "fileset = set(fileset)\n",
    "print(fileset)\n",
    "import anndata as ad\n",
    "adata_l=[]\n",
    "for file in fileset:\n",
    "    if(file == \"GSE128066_RAW.tar\"):\n",
    "        continue\n",
    "    barcodes = pd.read_csv(f\"Sun/{file}_barcodes.tsv.gz\",delimiter=\"\\t\",header=None)\n",
    "    barcodes.columns = [\"barcode\"]\n",
    "    genes = pd.read_csv(f\"Sun/{file}_genes.tsv.gz\",delimiter=\"\\t\",header=None)\n",
    "    genes.columns = [\"geneID\",\"geneName\"]\n",
    "    matrix = ad.read_mtx(f\"Sun/{file}_matrix.mtx.gz\")\n",
    "    matrix.var_names = barcodes[\"barcode\"]\n",
    "    matrix.obs_names = genes[\"geneName\"]\n",
    "    adata_l.append(matrix)\n",
    "import pickle as pk\n",
    "for i in range(len(adata_l)):\n",
    "    adata_l[i].var_names_make_unique()\n",
    "    adata_l[i].obs_names_make_unique()\n",
    "    adata_l[i]  = adata_l[i].transpose()\n",
    "pk.dump(adata_l,open(\"Sun/celltype_specific_counts.pkl\",\"wb\"))\n"
   ]
  },
  {
   "cell_type": "code",
   "execution_count": 50,
   "metadata": {},
   "outputs": [
    {
     "data": {
      "text/html": [
       "<div>\n",
       "<style scoped>\n",
       "    .dataframe tbody tr th:only-of-type {\n",
       "        vertical-align: middle;\n",
       "    }\n",
       "\n",
       "    .dataframe tbody tr th {\n",
       "        vertical-align: top;\n",
       "    }\n",
       "\n",
       "    .dataframe thead th {\n",
       "        text-align: right;\n",
       "    }\n",
       "</style>\n",
       "<table border=\"1\" class=\"dataframe\">\n",
       "  <thead>\n",
       "    <tr style=\"text-align: right;\">\n",
       "      <th></th>\n",
       "      <th>cellID</th>\n",
       "      <th>1772058147_F02</th>\n",
       "      <th>1772096158_E08</th>\n",
       "      <th>1772096144_A05</th>\n",
       "      <th>1772092004_A05</th>\n",
       "      <th>1772092004_B06</th>\n",
       "      <th>1772096173_F02</th>\n",
       "      <th>1772092004_B11</th>\n",
       "      <th>1772078030_A08</th>\n",
       "      <th>1772092004_B08</th>\n",
       "      <th>...</th>\n",
       "      <th>1772096165_E07</th>\n",
       "      <th>1772096145_E09</th>\n",
       "      <th>1772096168_G07</th>\n",
       "      <th>1772096103_C09</th>\n",
       "      <th>1772078030_A09</th>\n",
       "      <th>1772092005_H03</th>\n",
       "      <th>1772096133_F06</th>\n",
       "      <th>1772096144_F04</th>\n",
       "      <th>1772096144_H07</th>\n",
       "      <th>1772078016_A09</th>\n",
       "    </tr>\n",
       "  </thead>\n",
       "  <tbody>\n",
       "    <tr>\n",
       "      <th>0</th>\n",
       "      <td>level1 class</td>\n",
       "      <td>oligos</td>\n",
       "      <td>oligos</td>\n",
       "      <td>oligos</td>\n",
       "      <td>oligos</td>\n",
       "      <td>oligos</td>\n",
       "      <td>oligos</td>\n",
       "      <td>oligos</td>\n",
       "      <td>oligos</td>\n",
       "      <td>oligos</td>\n",
       "      <td>...</td>\n",
       "      <td>neurons</td>\n",
       "      <td>neurons</td>\n",
       "      <td>neurons</td>\n",
       "      <td>neurons</td>\n",
       "      <td>neurons</td>\n",
       "      <td>neurons</td>\n",
       "      <td>neurons</td>\n",
       "      <td>neurons</td>\n",
       "      <td>neurons</td>\n",
       "      <td>neurons</td>\n",
       "    </tr>\n",
       "    <tr>\n",
       "      <th>1</th>\n",
       "      <td>level2 class (neurons only)</td>\n",
       "      <td>NaN</td>\n",
       "      <td>NaN</td>\n",
       "      <td>NaN</td>\n",
       "      <td>NaN</td>\n",
       "      <td>NaN</td>\n",
       "      <td>NaN</td>\n",
       "      <td>NaN</td>\n",
       "      <td>NaN</td>\n",
       "      <td>NaN</td>\n",
       "      <td>...</td>\n",
       "      <td>uc</td>\n",
       "      <td>uc</td>\n",
       "      <td>uc</td>\n",
       "      <td>uc</td>\n",
       "      <td>uc</td>\n",
       "      <td>uc</td>\n",
       "      <td>uc</td>\n",
       "      <td>uc</td>\n",
       "      <td>uc</td>\n",
       "      <td>uc</td>\n",
       "    </tr>\n",
       "    <tr>\n",
       "      <th>2</th>\n",
       "      <td>level2 cluster number (neurons only)</td>\n",
       "      <td>NaN</td>\n",
       "      <td>NaN</td>\n",
       "      <td>NaN</td>\n",
       "      <td>NaN</td>\n",
       "      <td>NaN</td>\n",
       "      <td>NaN</td>\n",
       "      <td>NaN</td>\n",
       "      <td>NaN</td>\n",
       "      <td>NaN</td>\n",
       "      <td>...</td>\n",
       "      <td>NaN</td>\n",
       "      <td>NaN</td>\n",
       "      <td>NaN</td>\n",
       "      <td>NaN</td>\n",
       "      <td>NaN</td>\n",
       "      <td>NaN</td>\n",
       "      <td>NaN</td>\n",
       "      <td>NaN</td>\n",
       "      <td>NaN</td>\n",
       "      <td>NaN</td>\n",
       "    </tr>\n",
       "    <tr>\n",
       "      <th>3</th>\n",
       "      <td>age (days postnatal)</td>\n",
       "      <td>NaN</td>\n",
       "      <td>21</td>\n",
       "      <td>27</td>\n",
       "      <td>29</td>\n",
       "      <td>29</td>\n",
       "      <td>28</td>\n",
       "      <td>29</td>\n",
       "      <td>22</td>\n",
       "      <td>29</td>\n",
       "      <td>...</td>\n",
       "      <td>27</td>\n",
       "      <td>29</td>\n",
       "      <td>28</td>\n",
       "      <td>24</td>\n",
       "      <td>22</td>\n",
       "      <td>29</td>\n",
       "      <td>25</td>\n",
       "      <td>27</td>\n",
       "      <td>27</td>\n",
       "      <td>25</td>\n",
       "    </tr>\n",
       "    <tr>\n",
       "      <th>4</th>\n",
       "      <td>sex (female=1,male=-1)</td>\n",
       "      <td>0</td>\n",
       "      <td>-1</td>\n",
       "      <td>-1</td>\n",
       "      <td>-1</td>\n",
       "      <td>-1</td>\n",
       "      <td>-1</td>\n",
       "      <td>-1</td>\n",
       "      <td>1</td>\n",
       "      <td>-1</td>\n",
       "      <td>...</td>\n",
       "      <td>-1</td>\n",
       "      <td>-1</td>\n",
       "      <td>-1</td>\n",
       "      <td>-1</td>\n",
       "      <td>1</td>\n",
       "      <td>-1</td>\n",
       "      <td>-1</td>\n",
       "      <td>-1</td>\n",
       "      <td>-1</td>\n",
       "      <td>-1</td>\n",
       "    </tr>\n",
       "    <tr>\n",
       "      <th>...</th>\n",
       "      <td>...</td>\n",
       "      <td>...</td>\n",
       "      <td>...</td>\n",
       "      <td>...</td>\n",
       "      <td>...</td>\n",
       "      <td>...</td>\n",
       "      <td>...</td>\n",
       "      <td>...</td>\n",
       "      <td>...</td>\n",
       "      <td>...</td>\n",
       "      <td>...</td>\n",
       "      <td>...</td>\n",
       "      <td>...</td>\n",
       "      <td>...</td>\n",
       "      <td>...</td>\n",
       "      <td>...</td>\n",
       "      <td>...</td>\n",
       "      <td>...</td>\n",
       "      <td>...</td>\n",
       "      <td>...</td>\n",
       "      <td>...</td>\n",
       "    </tr>\n",
       "    <tr>\n",
       "      <th>24347</th>\n",
       "      <td>Gm20747_loc4</td>\n",
       "      <td>0</td>\n",
       "      <td>0</td>\n",
       "      <td>0</td>\n",
       "      <td>0</td>\n",
       "      <td>0</td>\n",
       "      <td>0</td>\n",
       "      <td>0</td>\n",
       "      <td>0</td>\n",
       "      <td>0</td>\n",
       "      <td>...</td>\n",
       "      <td>0</td>\n",
       "      <td>0</td>\n",
       "      <td>0</td>\n",
       "      <td>0</td>\n",
       "      <td>0</td>\n",
       "      <td>0</td>\n",
       "      <td>0</td>\n",
       "      <td>0</td>\n",
       "      <td>0</td>\n",
       "      <td>0</td>\n",
       "    </tr>\n",
       "    <tr>\n",
       "      <th>24348</th>\n",
       "      <td>Gm20736_loc10</td>\n",
       "      <td>0</td>\n",
       "      <td>0</td>\n",
       "      <td>0</td>\n",
       "      <td>0</td>\n",
       "      <td>0</td>\n",
       "      <td>0</td>\n",
       "      <td>0</td>\n",
       "      <td>0</td>\n",
       "      <td>0</td>\n",
       "      <td>...</td>\n",
       "      <td>0</td>\n",
       "      <td>0</td>\n",
       "      <td>0</td>\n",
       "      <td>0</td>\n",
       "      <td>0</td>\n",
       "      <td>0</td>\n",
       "      <td>0</td>\n",
       "      <td>0</td>\n",
       "      <td>0</td>\n",
       "      <td>0</td>\n",
       "    </tr>\n",
       "    <tr>\n",
       "      <th>24349</th>\n",
       "      <td>Gm20854_loc1</td>\n",
       "      <td>0</td>\n",
       "      <td>0</td>\n",
       "      <td>0</td>\n",
       "      <td>0</td>\n",
       "      <td>0</td>\n",
       "      <td>0</td>\n",
       "      <td>0</td>\n",
       "      <td>0</td>\n",
       "      <td>0</td>\n",
       "      <td>...</td>\n",
       "      <td>0</td>\n",
       "      <td>0</td>\n",
       "      <td>0</td>\n",
       "      <td>0</td>\n",
       "      <td>0</td>\n",
       "      <td>0</td>\n",
       "      <td>0</td>\n",
       "      <td>0</td>\n",
       "      <td>0</td>\n",
       "      <td>0</td>\n",
       "    </tr>\n",
       "    <tr>\n",
       "      <th>24350</th>\n",
       "      <td>Gm20854_loc2</td>\n",
       "      <td>0</td>\n",
       "      <td>0</td>\n",
       "      <td>0</td>\n",
       "      <td>0</td>\n",
       "      <td>0</td>\n",
       "      <td>0</td>\n",
       "      <td>0</td>\n",
       "      <td>0</td>\n",
       "      <td>0</td>\n",
       "      <td>...</td>\n",
       "      <td>0</td>\n",
       "      <td>0</td>\n",
       "      <td>0</td>\n",
       "      <td>0</td>\n",
       "      <td>0</td>\n",
       "      <td>0</td>\n",
       "      <td>0</td>\n",
       "      <td>0</td>\n",
       "      <td>0</td>\n",
       "      <td>0</td>\n",
       "    </tr>\n",
       "    <tr>\n",
       "      <th>24351</th>\n",
       "      <td>Erdr1</td>\n",
       "      <td>0</td>\n",
       "      <td>0</td>\n",
       "      <td>0</td>\n",
       "      <td>0</td>\n",
       "      <td>0</td>\n",
       "      <td>0</td>\n",
       "      <td>0</td>\n",
       "      <td>0</td>\n",
       "      <td>0</td>\n",
       "      <td>...</td>\n",
       "      <td>1</td>\n",
       "      <td>0</td>\n",
       "      <td>7</td>\n",
       "      <td>0</td>\n",
       "      <td>0</td>\n",
       "      <td>1</td>\n",
       "      <td>0</td>\n",
       "      <td>0</td>\n",
       "      <td>0</td>\n",
       "      <td>0</td>\n",
       "    </tr>\n",
       "  </tbody>\n",
       "</table>\n",
       "<p>24352 rows × 2882 columns</p>\n",
       "</div>"
      ],
      "text/plain": [
       "                                     cellID 1772058147_F02 1772096158_E08  \\\n",
       "0                              level1 class         oligos         oligos   \n",
       "1               level2 class (neurons only)            NaN            NaN   \n",
       "2      level2 cluster number (neurons only)            NaN            NaN   \n",
       "3                      age (days postnatal)            NaN             21   \n",
       "4                    sex (female=1,male=-1)              0             -1   \n",
       "...                                     ...            ...            ...   \n",
       "24347                          Gm20747_loc4              0              0   \n",
       "24348                         Gm20736_loc10              0              0   \n",
       "24349                          Gm20854_loc1              0              0   \n",
       "24350                          Gm20854_loc2              0              0   \n",
       "24351                                 Erdr1              0              0   \n",
       "\n",
       "      1772096144_A05 1772092004_A05 1772092004_B06 1772096173_F02  \\\n",
       "0             oligos         oligos         oligos         oligos   \n",
       "1                NaN            NaN            NaN            NaN   \n",
       "2                NaN            NaN            NaN            NaN   \n",
       "3                 27             29             29             28   \n",
       "4                 -1             -1             -1             -1   \n",
       "...              ...            ...            ...            ...   \n",
       "24347              0              0              0              0   \n",
       "24348              0              0              0              0   \n",
       "24349              0              0              0              0   \n",
       "24350              0              0              0              0   \n",
       "24351              0              0              0              0   \n",
       "\n",
       "      1772092004_B11 1772078030_A08 1772092004_B08  ... 1772096165_E07  \\\n",
       "0             oligos         oligos         oligos  ...        neurons   \n",
       "1                NaN            NaN            NaN  ...             uc   \n",
       "2                NaN            NaN            NaN  ...            NaN   \n",
       "3                 29             22             29  ...             27   \n",
       "4                 -1              1             -1  ...             -1   \n",
       "...              ...            ...            ...  ...            ...   \n",
       "24347              0              0              0  ...              0   \n",
       "24348              0              0              0  ...              0   \n",
       "24349              0              0              0  ...              0   \n",
       "24350              0              0              0  ...              0   \n",
       "24351              0              0              0  ...              1   \n",
       "\n",
       "      1772096145_E09 1772096168_G07 1772096103_C09 1772078030_A09  \\\n",
       "0            neurons        neurons        neurons        neurons   \n",
       "1                 uc             uc             uc             uc   \n",
       "2                NaN            NaN            NaN            NaN   \n",
       "3                 29             28             24             22   \n",
       "4                 -1             -1             -1              1   \n",
       "...              ...            ...            ...            ...   \n",
       "24347              0              0              0              0   \n",
       "24348              0              0              0              0   \n",
       "24349              0              0              0              0   \n",
       "24350              0              0              0              0   \n",
       "24351              0              7              0              0   \n",
       "\n",
       "      1772092005_H03 1772096133_F06 1772096144_F04 1772096144_H07  \\\n",
       "0            neurons        neurons        neurons        neurons   \n",
       "1                 uc             uc             uc             uc   \n",
       "2                NaN            NaN            NaN            NaN   \n",
       "3                 29             25             27             27   \n",
       "4                 -1             -1             -1             -1   \n",
       "...              ...            ...            ...            ...   \n",
       "24347              0              0              0              0   \n",
       "24348              0              0              0              0   \n",
       "24349              0              0              0              0   \n",
       "24350              0              0              0              0   \n",
       "24351              1              0              0              0   \n",
       "\n",
       "      1772078016_A09  \n",
       "0            neurons  \n",
       "1                 uc  \n",
       "2                NaN  \n",
       "3                 25  \n",
       "4                 -1  \n",
       "...              ...  \n",
       "24347              0  \n",
       "24348              0  \n",
       "24349              0  \n",
       "24350              0  \n",
       "24351              0  \n",
       "\n",
       "[24352 rows x 2882 columns]"
      ]
     },
     "execution_count": 50,
     "metadata": {},
     "output_type": "execute_result"
    }
   ],
   "source": [
    "romanov"
   ]
  },
  {
   "cell_type": "code",
   "execution_count": null,
   "metadata": {},
   "outputs": [
    {
     "name": "stdout",
     "output_type": "stream",
     "text": [
      "AnnData object with n_obs × n_vars = 2306 × 32738\n",
      "AnnData object with n_obs × n_vars = 577 × 27998\n",
      "AnnData object with n_obs × n_vars = 2438 × 32738\n",
      "AnnData object with n_obs × n_vars = 1636 × 32738\n",
      "AnnData object with n_obs × n_vars = 684 × 27998\n",
      "AnnData object with n_obs × n_vars = 1768 × 32738\n",
      "AnnData object with n_obs × n_vars = 649 × 27998\n",
      "AnnData object with n_obs × n_vars = 2410 × 32738\n",
      "AnnData object with n_obs × n_vars = 686 × 32738\n",
      "AnnData object with n_obs × n_vars = 2240 × 32738\n",
      "AnnData object with n_obs × n_vars = 724 × 27998\n"
     ]
    }
   ],
   "source": [
    "adata_l = pk.load(open(\"Sun/celltype_specific_counts.pkl\",\"rb\"))\n",
    "for i in range(len(adata_l)):\n",
    "    print(adata_l[i])"
   ]
  },
  {
   "cell_type": "code",
   "execution_count": null,
   "metadata": {},
   "outputs": [],
   "source": [
    "from openpyxl import load_workbook\n",
    "import pandas as pd\n",
    "from sklearn.preprocessing import LabelEncoder\n",
    "import pickle as pk\n",
    "romanov = pd.read_excel(\"/scratch/saigum/codebase/datasets/Romanov/GSE74672_expressed_mols_with_classes.xlsx\")\n",
    "pk.dump(romanov,)\n",
    "lb = LabelEncoder()\n",
    "subtype = lb.fit_transform(romanov.iloc[0])\n"
   ]
  },
  {
   "cell_type": "code",
   "execution_count": 3,
   "metadata": {},
   "outputs": [],
   "source": [
    "with open(\"Romanov/gse7462.pkl\",\"wb\") as fp:\n",
    "    pk.dump(romanov,fp)"
   ]
  },
  {
   "cell_type": "code",
   "execution_count": 44,
   "metadata": {},
   "outputs": [
    {
     "name": "stdout",
     "output_type": "stream",
     "text": [
      "cellID Xkr4 Rp1 Sox17 Mrpl15 Lypla1 Tcea1 Rgs20 Atp6v1h Oprk1 Npbwr1  ...  \\\n",
      "0         0   0     0      0      0     0     0       0     0      0  ...   \n",
      "1         0   0     0      0      0     1     0       0     0      0  ...   \n",
      "2         0   0     0      0      0     0     0       4     0      0  ...   \n",
      "3         0   0     0      0      0     2     0       0     0      0  ...   \n",
      "4         0   0     0      3      0     0     0       0     0      0  ...   \n",
      "...     ...  ..   ...    ...    ...   ...   ...     ...   ...    ...  ...   \n",
      "2876      0   0     0      0      0     2     0       0     0      0  ...   \n",
      "2877      0   0     0      1      2     2     0       5     1      0  ...   \n",
      "2878      0   0     0      0      0     0     0       0     0      0  ...   \n",
      "2879      0   0     0      0      1     2     0       7     0      0  ...   \n",
      "2880      0   0     0      0      1     3     0       1     0      0  ...   \n",
      "\n",
      "cellID Gm20736_loc9 Ssty2_loc4 Gm20806_loc3 Ssty2_loc1 Gm20806_loc4  \\\n",
      "0                 0          0            0          0            0   \n",
      "1                 0          0            0          0            0   \n",
      "2                 0          0            0          0            0   \n",
      "3                 0          0            0          0            0   \n",
      "4                 0          0            0          0            0   \n",
      "...             ...        ...          ...        ...          ...   \n",
      "2876              0          0            0          0            0   \n",
      "2877              0          0            0          0            0   \n",
      "2878              0          0            0          0            0   \n",
      "2879              0          0            0          0            0   \n",
      "2880              0          0            0          0            0   \n",
      "\n",
      "cellID Gm20747_loc4 Gm20736_loc10 Gm20854_loc1 Gm20854_loc2 Erdr1  \n",
      "0                 0             0            0            0     0  \n",
      "1                 0             0            0            0     0  \n",
      "2                 0             0            0            0     0  \n",
      "3                 0             0            0            0     0  \n",
      "4                 0             0            0            0     0  \n",
      "...             ...           ...          ...          ...   ...  \n",
      "2876              0             0            0            0     1  \n",
      "2877              0             0            0            0     0  \n",
      "2878              0             0            0            0     0  \n",
      "2879              0             0            0            0     0  \n",
      "2880              0             0            0            0     0  \n",
      "\n",
      "[2881 rows x 24341 columns]\n"
     ]
    },
    {
     "name": "stderr",
     "output_type": "stream",
     "text": [
      "/scratch/saigum/codebase/gac/lib/python3.13/site-packages/anndata/_core/aligned_df.py:68: ImplicitModificationWarning: Transforming to str index.\n",
      "  warnings.warn(\"Transforming to str index.\", ImplicitModificationWarning)\n"
     ]
    },
    {
     "name": "stdout",
     "output_type": "stream",
     "text": [
      "AnnData object for columns from 'Xkr4' onward has been pickled and saved as 'Romanov/adata.pkl'.\n"
     ]
    }
   ],
   "source": [
    "import pandas as pd\n",
    "import anndata\n",
    "import pickle\n",
    "with open(\"Romanov/gse7462.pkl\",\"rb\") as fp:\n",
    "    adata = pickle.load(fp).T\n",
    "header_row = adata.iloc[0]\n",
    "adata_new = adata.iloc[1:].copy()\n",
    "adata_new.columns = header_row\n",
    "adata_new.reset_index(drop=True, inplace=True)\n",
    "start_col = \"Xkr4\"\n",
    "start_index = adata_new.columns.get_loc(start_col)  # Get index of \"Xkr4\"\n",
    "selected_df = adata_new.iloc[:, start_index:]  # Select all columns from \"Xkr4\" onward\n",
    "print(selected_df)\n",
    "selected_adata = anndata.AnnData(selected_df)\n",
    "filename = \"Romanov/adata.pkl\"\n",
    "with open(filename, \"wb\") as file:\n",
    "    pickle.dump(selected_adata, file)\n",
    "print(f\"AnnData object for columns from 'Xkr4' onward has been pickled and saved as '{filename}'.\")"
   ]
  },
  {
   "cell_type": "code",
   "execution_count": 45,
   "metadata": {},
   "outputs": [
    {
     "data": {
      "text/plain": [
       "AnnData object with n_obs × n_vars = 2881 × 24341"
      ]
     },
     "execution_count": 45,
     "metadata": {},
     "output_type": "execute_result"
    }
   ],
   "source": [
    "import pickle as pk\n",
    "\n",
    "with open(\"Romanov/adata.pkl\", \"rb\") as file:\n",
    "    adata = pk.load(file)\n",
    "adata"
   ]
  },
  {
   "cell_type": "code",
   "execution_count": 28,
   "metadata": {},
   "outputs": [
    {
     "name": "stdout",
     "output_type": "stream",
     "text": [
      "              barcode  label\n",
      "0  AAACCTGCACGAAACG-1      0\n",
      "1  AAACCTGCAGACTCGC-1      0\n",
      "2  AAACCTGCATTTGCTT-1      0\n",
      "3  AAACCTGGTAGCGTAG-1      0\n",
      "4  AAACCTGGTGTCGCTG-1      0\n"
     ]
    },
    {
     "name": "stderr",
     "output_type": "stream",
     "text": [
      "/scratch/saigum/codebase/gac/lib/python3.13/site-packages/anndata/_core/anndata.py:1756: UserWarning: Observation names are not unique. To make them unique, call `.obs_names_make_unique`.\n",
      "  utils.warn_names_duplicates(\"obs\")\n"
     ]
    }
   ],
   "source": [
    "import pickle as pk\n",
    "import pandas as pd\n",
    "import anndata as ad\n",
    "adata_list = pk.load(open(\"Sun/celltype_specific_counts.pkl\", \"rb\"))\n",
    "dfs = []\n",
    "for i, adata in enumerate(adata_list):\n",
    "    temp_df = pd.DataFrame({\n",
    "        'barcode': adata.obs_names,\n",
    "        'label': i\n",
    "    })\n",
    "    dfs.append(temp_df)\n",
    "subtype_df = pd.concat(dfs, ignore_index=True)\n",
    "print(subtype_df.head())\n",
    "adata = ad.concat(adata_list)"
   ]
  },
  {
   "cell_type": "code",
   "execution_count": 55,
   "metadata": {},
   "outputs": [
    {
     "data": {
      "text/plain": [
       "AnnData object with n_obs × n_vars = 577 × 27998"
      ]
     },
     "execution_count": 55,
     "metadata": {},
     "output_type": "execute_result"
    }
   ],
   "source": [
    "adata_list.pop(1)"
   ]
  },
  {
   "cell_type": "code",
   "execution_count": 56,
   "metadata": {},
   "outputs": [
    {
     "name": "stdout",
     "output_type": "stream",
     "text": [
      "              barcode  label\n",
      "0  AAACCTGCACGAAACG-1      0\n",
      "1  AAACCTGCAGACTCGC-1      0\n",
      "2  AAACCTGCATTTGCTT-1      0\n",
      "3  AAACCTGGTAGCGTAG-1      0\n",
      "4  AAACCTGGTGTCGCTG-1      0\n"
     ]
    },
    {
     "name": "stderr",
     "output_type": "stream",
     "text": [
      "/scratch/saigum/codebase/gac/lib/python3.13/site-packages/anndata/_core/anndata.py:1756: UserWarning: Observation names are not unique. To make them unique, call `.obs_names_make_unique`.\n",
      "  utils.warn_names_duplicates(\"obs\")\n"
     ]
    }
   ],
   "source": [
    "for i, adata in enumerate(adata_list):\n",
    "    temp_df = pd.DataFrame({\n",
    "        'barcode': adata.obs_names,\n",
    "        'label': i\n",
    "    })\n",
    "    dfs.append(temp_df)\n",
    "subtype_df = pd.concat(dfs, ignore_index=True)\n",
    "print(subtype_df.head())\n",
    "adata = ad.concat(adata_list)"
   ]
  },
  {
   "cell_type": "code",
   "execution_count": 57,
   "metadata": {},
   "outputs": [
    {
     "data": {
      "text/plain": [
       "AnnData object with n_obs × n_vars = 15541 × 19"
      ]
     },
     "execution_count": 57,
     "metadata": {},
     "output_type": "execute_result"
    }
   ],
   "source": [
    "adata"
   ]
  }
 ],
 "metadata": {
  "kernelspec": {
   "display_name": "gac",
   "language": "python",
   "name": "python3"
  },
  "language_info": {
   "codemirror_mode": {
    "name": "ipython",
    "version": 3
   },
   "file_extension": ".py",
   "mimetype": "text/x-python",
   "name": "python",
   "nbconvert_exporter": "python",
   "pygments_lexer": "ipython3",
   "version": "3.13.1"
  }
 },
 "nbformat": 4,
 "nbformat_minor": 2
}
